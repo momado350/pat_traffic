{
 "cells": [
  {
   "cell_type": "code",
   "execution_count": 1,
   "metadata": {},
   "outputs": [
    {
     "name": "stderr",
     "output_type": "stream",
     "text": [
      "C:\\Users\\mohammedahmed\\Anaconda3\\envs\\librarydata\\lib\\site-packages\\pandas\\io\\sql.py:758: UserWarning: pandas only support SQLAlchemy connectable(engine/connection) ordatabase string URI or sqlite3 DBAPI2 connectionother DBAPI2 objects are not tested, please consider using SQLAlchemy\n",
      "  warnings.warn(\n"
     ]
    },
    {
     "data": {
      "text/html": [
       "<div>\n",
       "<style scoped>\n",
       "    .dataframe tbody tr th:only-of-type {\n",
       "        vertical-align: middle;\n",
       "    }\n",
       "\n",
       "    .dataframe tbody tr th {\n",
       "        vertical-align: top;\n",
       "    }\n",
       "\n",
       "    .dataframe thead th {\n",
       "        text-align: right;\n",
       "    }\n",
       "</style>\n",
       "<table border=\"1\" class=\"dataframe\">\n",
       "  <thead>\n",
       "    <tr style=\"text-align: right;\">\n",
       "      <th></th>\n",
       "      <th>SessionID</th>\n",
       "      <th>StartTime</th>\n",
       "      <th>EndTime</th>\n",
       "      <th>SessionUserID</th>\n",
       "      <th>SessionResourceID</th>\n",
       "      <th>UserID</th>\n",
       "      <th>LoginName</th>\n",
       "      <th>FirstName</th>\n",
       "      <th>LastName</th>\n",
       "      <th>Type</th>\n",
       "      <th>...</th>\n",
       "      <th>LocationPolicyName</th>\n",
       "      <th>LocationSiteID</th>\n",
       "      <th>SiteName</th>\n",
       "      <th>SiteDescription</th>\n",
       "      <th>SitePolicyID</th>\n",
       "      <th>SitePolicyName</th>\n",
       "      <th>DesktopProfileID</th>\n",
       "      <th>DesktopProfileName</th>\n",
       "      <th>UserName</th>\n",
       "      <th>DateAdded</th>\n",
       "    </tr>\n",
       "  </thead>\n",
       "  <tbody>\n",
       "    <tr>\n",
       "      <th>0</th>\n",
       "      <td>434334</td>\n",
       "      <td>2022-01-21 20:26:43</td>\n",
       "      <td>2022-01-21 20:44:56</td>\n",
       "      <td>64884</td>\n",
       "      <td>631</td>\n",
       "      <td>64884</td>\n",
       "      <td>1000130447336</td>\n",
       "      <td>Garcia, Diego Ivan</td>\n",
       "      <td></td>\n",
       "      <td>1</td>\n",
       "      <td>...</td>\n",
       "      <td>General</td>\n",
       "      <td>5</td>\n",
       "      <td>Plaza Branch</td>\n",
       "      <td>4801 Main Street, Kansas City, MO</td>\n",
       "      <td>2</td>\n",
       "      <td>General</td>\n",
       "      <td>3</td>\n",
       "      <td>KCPL Public</td>\n",
       "      <td>tbsuser</td>\n",
       "      <td>2022-01-21 23:45:03.217</td>\n",
       "    </tr>\n",
       "    <tr>\n",
       "      <th>1</th>\n",
       "      <td>434335</td>\n",
       "      <td>2022-01-21 20:35:13</td>\n",
       "      <td>2022-01-21 20:45:11</td>\n",
       "      <td>70456</td>\n",
       "      <td>632</td>\n",
       "      <td>70456</td>\n",
       "      <td>1000130886806</td>\n",
       "      <td>Hamilton, Rotez</td>\n",
       "      <td></td>\n",
       "      <td>1</td>\n",
       "      <td>...</td>\n",
       "      <td>General</td>\n",
       "      <td>5</td>\n",
       "      <td>Plaza Branch</td>\n",
       "      <td>4801 Main Street, Kansas City, MO</td>\n",
       "      <td>2</td>\n",
       "      <td>General</td>\n",
       "      <td>3</td>\n",
       "      <td>KCPL Public</td>\n",
       "      <td>tbsuser</td>\n",
       "      <td>2022-01-21 23:45:03.217</td>\n",
       "    </tr>\n",
       "  </tbody>\n",
       "</table>\n",
       "<p>2 rows × 39 columns</p>\n",
       "</div>"
      ],
      "text/plain": [
       "   SessionID           StartTime             EndTime  SessionUserID  \\\n",
       "0     434334 2022-01-21 20:26:43 2022-01-21 20:44:56          64884   \n",
       "1     434335 2022-01-21 20:35:13 2022-01-21 20:45:11          70456   \n",
       "\n",
       "   SessionResourceID  UserID      LoginName           FirstName LastName  \\\n",
       "0                631   64884  1000130447336  Garcia, Diego Ivan            \n",
       "1                632   70456  1000130886806     Hamilton, Rotez            \n",
       "\n",
       "   Type  ... LocationPolicyName LocationSiteID      SiteName  \\\n",
       "0     1  ...            General              5  Plaza Branch   \n",
       "1     1  ...            General              5  Plaza Branch   \n",
       "\n",
       "                     SiteDescription SitePolicyID SitePolicyName  \\\n",
       "0  4801 Main Street, Kansas City, MO            2        General   \n",
       "1  4801 Main Street, Kansas City, MO            2        General   \n",
       "\n",
       "   DesktopProfileID DesktopProfileName  UserName               DateAdded  \n",
       "0                 3        KCPL Public   tbsuser 2022-01-21 23:45:03.217  \n",
       "1                 3        KCPL Public   tbsuser 2022-01-21 23:45:03.217  \n",
       "\n",
       "[2 rows x 39 columns]"
      ]
     },
     "execution_count": 1,
     "metadata": {},
     "output_type": "execute_result"
    }
   ],
   "source": [
    "import pandas as pd\n",
    "import pyodbc\n",
    "conn = pyodbc.connect('Driver={SQL Server};'\n",
    "                      'Server=kcplsql;'\n",
    "                      'Database=KCPL_TBS_Archive;'\n",
    "                      'Trusted_Connection=yes;')\n",
    "\n",
    "computer = pd.read_sql_query('SELECT * FROM MyPC3SessionAudit WHERE StartTime > ?', conn, parse_dates=['StartTime'], params=['2022-01-21 20:26:15'])\n",
    "computer.to_csv('data/computer.csv')\n",
    "computer.head(2)"
   ]
  },
  {
   "cell_type": "code",
   "execution_count": 4,
   "metadata": {},
   "outputs": [
    {
     "data": {
      "text/plain": [
       "Timestamp('2022-03-31 23:45:06.607000')"
      ]
     },
     "execution_count": 4,
     "metadata": {},
     "output_type": "execute_result"
    }
   ],
   "source": [
    "computer.DateAdded.max()"
   ]
  }
 ],
 "metadata": {
  "interpreter": {
   "hash": "78b25bcffbc6cad5a13dac6ccd1e05e63163045e84c509d1253671018ed769b5"
  },
  "kernelspec": {
   "display_name": "Python 3.8.12 ('librarydata')",
   "language": "python",
   "name": "python3"
  },
  "language_info": {
   "codemirror_mode": {
    "name": "ipython",
    "version": 3
   },
   "file_extension": ".py",
   "mimetype": "text/x-python",
   "name": "python",
   "nbconvert_exporter": "python",
   "pygments_lexer": "ipython3",
   "version": "3.8.12"
  },
  "orig_nbformat": 4
 },
 "nbformat": 4,
 "nbformat_minor": 2
}
