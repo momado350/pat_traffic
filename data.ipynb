{
 "cells": [
  {
   "cell_type": "code",
   "execution_count": 1,
   "metadata": {},
   "outputs": [
    {
     "name": "stderr",
     "output_type": "stream",
     "text": [
      "C:\\Users\\mohammedahmed\\Anaconda3\\envs\\librarydata\\lib\\site-packages\\pandas\\io\\sql.py:758: UserWarning: pandas only support SQLAlchemy connectable(engine/connection) ordatabase string URI or sqlite3 DBAPI2 connectionother DBAPI2 objects are not tested, please consider using SQLAlchemy\n",
      "  warnings.warn(\n"
     ]
    },
    {
     "data": {
      "text/html": [
       "<div>\n",
       "<style scoped>\n",
       "    .dataframe tbody tr th:only-of-type {\n",
       "        vertical-align: middle;\n",
       "    }\n",
       "\n",
       "    .dataframe tbody tr th {\n",
       "        vertical-align: top;\n",
       "    }\n",
       "\n",
       "    .dataframe thead th {\n",
       "        text-align: right;\n",
       "    }\n",
       "</style>\n",
       "<table border=\"1\" class=\"dataframe\">\n",
       "  <thead>\n",
       "    <tr style=\"text-align: right;\">\n",
       "      <th></th>\n",
       "      <th>SessionID</th>\n",
       "      <th>StartTime</th>\n",
       "      <th>EndTime</th>\n",
       "      <th>SessionUserID</th>\n",
       "      <th>SessionResourceID</th>\n",
       "      <th>UserID</th>\n",
       "      <th>LoginName</th>\n",
       "      <th>FirstName</th>\n",
       "      <th>LastName</th>\n",
       "      <th>Type</th>\n",
       "      <th>...</th>\n",
       "      <th>LocationPolicyName</th>\n",
       "      <th>LocationSiteID</th>\n",
       "      <th>SiteName</th>\n",
       "      <th>SiteDescription</th>\n",
       "      <th>SitePolicyID</th>\n",
       "      <th>SitePolicyName</th>\n",
       "      <th>DesktopProfileID</th>\n",
       "      <th>DesktopProfileName</th>\n",
       "      <th>UserName</th>\n",
       "      <th>DateAdded</th>\n",
       "    </tr>\n",
       "  </thead>\n",
       "  <tbody>\n",
       "    <tr>\n",
       "      <th>0</th>\n",
       "      <td>427608</td>\n",
       "      <td>2022-01-03 13:36:35</td>\n",
       "      <td>2022-01-03 13:44:43</td>\n",
       "      <td>58948</td>\n",
       "      <td>167</td>\n",
       "      <td>58948</td>\n",
       "      <td>1000129895412</td>\n",
       "      <td>Hotchkiss, Samuel James</td>\n",
       "      <td></td>\n",
       "      <td>1</td>\n",
       "      <td>...</td>\n",
       "      <td>Librarian Assigned</td>\n",
       "      <td>2</td>\n",
       "      <td>Central Library</td>\n",
       "      <td>14 W. 10th Street, Kansas City, MO</td>\n",
       "      <td>2</td>\n",
       "      <td>General</td>\n",
       "      <td>3</td>\n",
       "      <td>KCPL Public</td>\n",
       "      <td>tbsuser</td>\n",
       "      <td>2022-01-03 23:45:05.487</td>\n",
       "    </tr>\n",
       "    <tr>\n",
       "      <th>1</th>\n",
       "      <td>427544</td>\n",
       "      <td>2022-01-03 12:22:40</td>\n",
       "      <td>2022-01-03 12:43:49</td>\n",
       "      <td>57564</td>\n",
       "      <td>187</td>\n",
       "      <td>57564</td>\n",
       "      <td>1000130260168</td>\n",
       "      <td>Cowan, Calvin</td>\n",
       "      <td></td>\n",
       "      <td>1</td>\n",
       "      <td>...</td>\n",
       "      <td>General</td>\n",
       "      <td>3</td>\n",
       "      <td>Lucile H. Bluford Branch</td>\n",
       "      <td>3050 Prospect Avenue, Kansas City, MO</td>\n",
       "      <td>2</td>\n",
       "      <td>General</td>\n",
       "      <td>3</td>\n",
       "      <td>KCPL Public</td>\n",
       "      <td>tbsuser</td>\n",
       "      <td>2022-01-03 23:45:05.487</td>\n",
       "    </tr>\n",
       "  </tbody>\n",
       "</table>\n",
       "<p>2 rows × 39 columns</p>\n",
       "</div>"
      ],
      "text/plain": [
       "   SessionID           StartTime             EndTime  SessionUserID  \\\n",
       "0     427608 2022-01-03 13:36:35 2022-01-03 13:44:43          58948   \n",
       "1     427544 2022-01-03 12:22:40 2022-01-03 12:43:49          57564   \n",
       "\n",
       "   SessionResourceID  UserID      LoginName                FirstName LastName  \\\n",
       "0                167   58948  1000129895412  Hotchkiss, Samuel James            \n",
       "1                187   57564  1000130260168            Cowan, Calvin            \n",
       "\n",
       "   Type  ...  LocationPolicyName LocationSiteID                  SiteName  \\\n",
       "0     1  ...  Librarian Assigned              2           Central Library   \n",
       "1     1  ...             General              3  Lucile H. Bluford Branch   \n",
       "\n",
       "                         SiteDescription SitePolicyID SitePolicyName  \\\n",
       "0     14 W. 10th Street, Kansas City, MO            2        General   \n",
       "1  3050 Prospect Avenue, Kansas City, MO            2        General   \n",
       "\n",
       "   DesktopProfileID DesktopProfileName  UserName               DateAdded  \n",
       "0                 3        KCPL Public   tbsuser 2022-01-03 23:45:05.487  \n",
       "1                 3        KCPL Public   tbsuser 2022-01-03 23:45:05.487  \n",
       "\n",
       "[2 rows x 39 columns]"
      ]
     },
     "execution_count": 1,
     "metadata": {},
     "output_type": "execute_result"
    }
   ],
   "source": [
    "import pandas as pd\n",
    "import pyodbc\n",
    "conn = pyodbc.connect('Driver={SQL Server};'\n",
    "                      'Server=kcplsql;'\n",
    "                      'Database=KCPL_TBS_Archive;'\n",
    "                      'Trusted_Connection=yes;')\n",
    "\n",
    "computer = pd.read_sql_query('SELECT * FROM MyPC3SessionAudit WHERE StartTime > ?', conn, parse_dates=['StartTime'], params=['2022-01-01 20:26:15'])\n",
    "computer.to_csv('data/computer.csv')\n",
    "computer.head(2)"
   ]
  },
  {
   "cell_type": "code",
   "execution_count": 3,
   "metadata": {},
   "outputs": [
    {
     "data": {
      "text/plain": [
       "Timestamp('2022-04-24 17:28:56')"
      ]
     },
     "execution_count": 3,
     "metadata": {},
     "output_type": "execute_result"
    }
   ],
   "source": [
    "computer['StartTime'].max(0)"
   ]
  },
  {
   "cell_type": "code",
   "execution_count": 4,
   "metadata": {},
   "outputs": [
    {
     "name": "stderr",
     "output_type": "stream",
     "text": [
      "<ipython-input-4-3ef6d4516f8a>:3: DtypeWarning: Columns (12) have mixed types. Specify dtype option on import or set low_memory=False.\n",
      "  computer = pd.read_csv('data/computer.csv', parse_dates=['StartTime'])\n",
      "<ipython-input-4-3ef6d4516f8a>:12: SettingWithCopyWarning: \n",
      "A value is trying to be set on a copy of a slice from a DataFrame.\n",
      "Try using .loc[row_indexer,col_indexer] = value instead\n",
      "\n",
      "See the caveats in the documentation: https://pandas.pydata.org/pandas-docs/stable/user_guide/indexing.html#returning-a-view-versus-a-copy\n",
      "  computer1['Date'] = computer1['StartTime'].dt.date\n",
      "<ipython-input-4-3ef6d4516f8a>:13: SettingWithCopyWarning: \n",
      "A value is trying to be set on a copy of a slice from a DataFrame.\n",
      "Try using .loc[row_indexer,col_indexer] = value instead\n",
      "\n",
      "See the caveats in the documentation: https://pandas.pydata.org/pandas-docs/stable/user_guide/indexing.html#returning-a-view-versus-a-copy\n",
      "  computer1['time'] = computer1['StartTime'].dt.time\n",
      "<ipython-input-4-3ef6d4516f8a>:14: SettingWithCopyWarning: \n",
      "A value is trying to be set on a copy of a slice from a DataFrame.\n",
      "Try using .loc[row_indexer,col_indexer] = value instead\n",
      "\n",
      "See the caveats in the documentation: https://pandas.pydata.org/pandas-docs/stable/user_guide/indexing.html#returning-a-view-versus-a-copy\n",
      "  computer1['year'] = computer1['StartTime'].dt.year\n",
      "<ipython-input-4-3ef6d4516f8a>:15: SettingWithCopyWarning: \n",
      "A value is trying to be set on a copy of a slice from a DataFrame.\n",
      "Try using .loc[row_indexer,col_indexer] = value instead\n",
      "\n",
      "See the caveats in the documentation: https://pandas.pydata.org/pandas-docs/stable/user_guide/indexing.html#returning-a-view-versus-a-copy\n",
      "  computer1['week_day'] = computer1['StartTime'].dt.day_name()\n",
      "<ipython-input-4-3ef6d4516f8a>:16: SettingWithCopyWarning: \n",
      "A value is trying to be set on a copy of a slice from a DataFrame.\n",
      "Try using .loc[row_indexer,col_indexer] = value instead\n",
      "\n",
      "See the caveats in the documentation: https://pandas.pydata.org/pandas-docs/stable/user_guide/indexing.html#returning-a-view-versus-a-copy\n",
      "  computer1['time'] = computer1['time'].astype(str)\n",
      "<ipython-input-4-3ef6d4516f8a>:17: SettingWithCopyWarning: \n",
      "A value is trying to be set on a copy of a slice from a DataFrame.\n",
      "Try using .loc[row_indexer,col_indexer] = value instead\n",
      "\n",
      "See the caveats in the documentation: https://pandas.pydata.org/pandas-docs/stable/user_guide/indexing.html#returning-a-view-versus-a-copy\n",
      "  computer1['hour'] = computer1['time'].str.split(':').str[0]\n",
      "<ipython-input-4-3ef6d4516f8a>:18: SettingWithCopyWarning: \n",
      "A value is trying to be set on a copy of a slice from a DataFrame.\n",
      "Try using .loc[row_indexer,col_indexer] = value instead\n",
      "\n",
      "See the caveats in the documentation: https://pandas.pydata.org/pandas-docs/stable/user_guide/indexing.html#returning-a-view-versus-a-copy\n",
      "  computer1['hour'] = computer1['hour'].astype(int)\n",
      "<ipython-input-4-3ef6d4516f8a>:19: SettingWithCopyWarning: \n",
      "A value is trying to be set on a copy of a slice from a DataFrame.\n",
      "Try using .loc[row_indexer,col_indexer] = value instead\n",
      "\n",
      "See the caveats in the documentation: https://pandas.pydata.org/pandas-docs/stable/user_guide/indexing.html#returning-a-view-versus-a-copy\n",
      "  computer1['date'] = pd.to_datetime(computer1['Date'])\n"
     ]
    }
   ],
   "source": [
    "# import pandas as pd\n",
    "\n",
    "# computer = pd.read_csv('data/computer.csv', parse_dates=['StartTime'])\n",
    "# circulation = pd.read_csv('data/M.Ahmed Charge Hist log output with IDs.csv', parse_dates=['Trans Hist Date'])\n",
    "\n",
    "# # computer data\n",
    "# mask = computer['SiteName'].isin(['__Not In Use', '_default', '_IS Testing Lab'])\n",
    "# computer = computer[~mask]\n",
    "# replace_values = {'Lucile H. Bluford Branch': 'KC-BLUFORD', 'Plaza Branch': 'KC-PLAZA', 'Central Library': 'KC-CENTRAL', 'Waldo Branch': 'KC-WALDO', 'Southeast Branch': 'KC-SE', 'North-East Branch': 'KC-NE', 'Trails West Branch': 'KC-TRAILS', 'Westport Branch': 'KC-WSTPORT', 'Irene H. Ruiz Biblioteca de las Americas': 'KC-RUIZ', 'Sugar Creek Branch': 'KC-SGCREEK'}\n",
    "# computer = computer.replace({\"SiteName\": replace_values})\n",
    "# computer1 = computer[['StartTime', 'EndTime', 'SessionID', 'SiteName']]\n",
    "# computer1['Date'] = computer1['StartTime'].dt.date\n",
    "# computer1['time'] = computer1['StartTime'].dt.time\n",
    "# computer1['year'] = computer1['StartTime'].dt.year\n",
    "# computer1['week_day'] = computer1['StartTime'].dt.day_name()\n",
    "# computer1['time'] = computer1['time'].astype(str)\n",
    "# computer1['hour'] = computer1['time'].str.split(':').str[0]\n",
    "# computer1['hour'] = computer1['hour'].astype(int)\n",
    "# computer1['date'] = pd.to_datetime(computer1['Date'])\n",
    "# grouped = computer1.groupby(['date','SiteName', 'hour'])['SessionID'].count().reset_index()\n",
    "# replace_values = {8: '8 AM', 9: \"9 AM\", 10: \"10 AM\", 11: \"11 AM\", 12: \"12 PM\", 13: \"1 PM\", 14: \"2 PM\", 15: \"3 PM\", 16: \"4 PM\", 17: \"5 PM\", 18: \"6 PM\", 19: \"7 PM\", 20: \"8 PM\", 21: '9'}\n",
    "# computer_df = grouped.replace({\"hour\": replace_values})\n",
    "# computer_df.rename(columns={'date': 'Trans Hist Date', 'SiteName': 'Station Library Checkout', 'hour': 'hours'}, inplace=True)\n",
    "# mask1 = circulation['User Profile'].isin(['MISSING', 'KC-DISPLAY', 'KC-MAINT', 'DISCARD', 'KC-STAFF', 'DAMAGED', 'KC-CATALOG', 'KC-SUSPND',\n",
    "#  'LOST', 'KCP-ILL', 'KC-COLDEV', 'KC-TFRBTG', 'KC_CAT1', 'REPLACE'])\n",
    "# circulation = circulation[~mask1]\n",
    "# circulation['trans_time'] = circulation['Trans Hist Datetime'].str.split(' ').str[1]\n",
    "# circulation['hour'] = circulation['trans_time'].str.split(':').str[0]\n",
    "# circulation1 = circulation.groupby(['Trans Hist Date', 'Station Library Checkout', 'hour'])['User Id'].unique().reset_index()\n",
    "# ## circulation1 = pd.DataFrame(circulation1)\n",
    "# #circulation1['patron'] = circulation['User Id'].unique()\n",
    "# circulation1['patrons'] = circulation1['User Id'].apply(lambda x: len(x))#.reset_index()\n",
    "# circulation2 = circulation1[['Trans Hist Date', 'Station Library Checkout', 'hour', 'patrons']]\n",
    "# #circulation2['patrons'] = circulation2['patrons'].fillna(0)\n",
    "# circulation2['hours'] = circulation2['hour'].astype(int)\n",
    "# circulation2['week_day'] = circulation2['Trans Hist Date'].dt.day_name()\n",
    "# replace_values = {9: \"9 AM\", 10: \"10 AM\", 11: \"11 AM\", 12: \"12 PM\", 13: \"1 PM\", 14: \"2 PM\", 15: \"3 PM\", 16: \"4 PM\", 17: \"5 PM\", 18: \"6 PM\", 19: \"7 PM\", 20: \"8 PM\"}\n",
    "# circulation2 = circulation2.replace({\"hours\": replace_values})\n",
    "# mer_df = pd.merge(circulation2, computer_df)\n",
    "# mer_df['total'] = mer_df['SessionID'] + mer_df['patrons']"
   ]
  },
  {
   "cell_type": "code",
   "execution_count": 2,
   "metadata": {},
   "outputs": [
    {
     "ename": "NameError",
     "evalue": "name 'mer_df' is not defined",
     "output_type": "error",
     "traceback": [
      "\u001b[1;31m---------------------------------------------------------------------------\u001b[0m",
      "\u001b[1;31mNameError\u001b[0m                                 Traceback (most recent call last)",
      "\u001b[1;32m<ipython-input-2-0fb15ed0d1f6>\u001b[0m in \u001b[0;36m<module>\u001b[1;34m\u001b[0m\n\u001b[1;32m----> 1\u001b[1;33m \u001b[0mmer_df\u001b[0m\u001b[1;33m[\u001b[0m\u001b[1;34m'Trans Hist Date'\u001b[0m\u001b[1;33m]\u001b[0m\u001b[1;33m.\u001b[0m\u001b[0mmax\u001b[0m\u001b[1;33m(\u001b[0m\u001b[1;33m)\u001b[0m\u001b[1;33m\u001b[0m\u001b[1;33m\u001b[0m\u001b[0m\n\u001b[0m",
      "\u001b[1;31mNameError\u001b[0m: name 'mer_df' is not defined"
     ]
    }
   ],
   "source": [
    "mer_df['Trans Hist Date'].max()"
   ]
  }
 ],
 "metadata": {
  "interpreter": {
   "hash": "78b25bcffbc6cad5a13dac6ccd1e05e63163045e84c509d1253671018ed769b5"
  },
  "kernelspec": {
   "display_name": "Python 3.8.12 ('librarydata')",
   "language": "python",
   "name": "python3"
  },
  "language_info": {
   "codemirror_mode": {
    "name": "ipython",
    "version": 3
   },
   "file_extension": ".py",
   "mimetype": "text/x-python",
   "name": "python",
   "nbconvert_exporter": "python",
   "pygments_lexer": "ipython3",
   "version": "3.8.12"
  },
  "orig_nbformat": 4
 },
 "nbformat": 4,
 "nbformat_minor": 2
}
