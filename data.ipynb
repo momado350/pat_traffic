{
 "cells": [
  {
   "cell_type": "code",
   "execution_count": 2,
   "metadata": {},
   "outputs": [],
   "source": [
    "# import pandas as pd\n",
    "# import pyodbc\n",
    "# conn = pyodbc.connect('Driver={SQL Server};'\n",
    "#                       'Server=kcplsql;'\n",
    "#                       'Database=KCPL_TBS_Archive;'\n",
    "#                       'Trusted_Connection=yes;')\n",
    "\n",
    "# computer = pd.read_sql_query('SELECT * FROM MyPC3SessionAudit WHERE StartTime > ?', conn, parse_dates=['StartTime'], params=['2022-01-21 20:26:15'])\n",
    "# computer.to_csv('data/computer.csv')\n",
    "# computer.head(2)"
   ]
  }
 ],
 "metadata": {
  "interpreter": {
   "hash": "78b25bcffbc6cad5a13dac6ccd1e05e63163045e84c509d1253671018ed769b5"
  },
  "kernelspec": {
   "display_name": "Python 3.8.12 ('librarydata')",
   "language": "python",
   "name": "python3"
  },
  "language_info": {
   "codemirror_mode": {
    "name": "ipython",
    "version": 3
   },
   "file_extension": ".py",
   "mimetype": "text/x-python",
   "name": "python",
   "nbconvert_exporter": "python",
   "pygments_lexer": "ipython3",
   "version": "3.8.12"
  },
  "orig_nbformat": 4
 },
 "nbformat": 4,
 "nbformat_minor": 2
}
