{
 "cells": [
  {
   "cell_type": "code",
   "execution_count": 2,
   "metadata": {},
   "outputs": [],
   "source": [
    "# import pandas as pd\n",
    "# import pyodbc\n",
    "# conn = pyodbc.connect('Driver={SQL Server};'\n",
    "#                       'Server=kcplsql;'\n",
    "#                       'Database=KCPL_TBS_Archive;'\n",
    "#                       'Trusted_Connection=yes;')\n",
    "\n",
    "# computer = pd.read_sql_query('SELECT * FROM MyPC3SessionAudit WHERE StartTime > ?', conn, parse_dates=['StartTime'], params=['2022-01-01 20:26:15'])\n",
    "# computer.to_csv('data/computer.csv')\n",
    "# computer.head(2)"
   ]
  },
  {
   "cell_type": "code",
   "execution_count": 4,
   "metadata": {},
   "outputs": [
    {
     "name": "stderr",
     "output_type": "stream",
     "text": [
      "<ipython-input-4-3ef6d4516f8a>:3: DtypeWarning: Columns (12) have mixed types. Specify dtype option on import or set low_memory=False.\n",
      "  computer = pd.read_csv('data/computer.csv', parse_dates=['StartTime'])\n",
      "<ipython-input-4-3ef6d4516f8a>:12: SettingWithCopyWarning: \n",
      "A value is trying to be set on a copy of a slice from a DataFrame.\n",
      "Try using .loc[row_indexer,col_indexer] = value instead\n",
      "\n",
      "See the caveats in the documentation: https://pandas.pydata.org/pandas-docs/stable/user_guide/indexing.html#returning-a-view-versus-a-copy\n",
      "  computer1['Date'] = computer1['StartTime'].dt.date\n",
      "<ipython-input-4-3ef6d4516f8a>:13: SettingWithCopyWarning: \n",
      "A value is trying to be set on a copy of a slice from a DataFrame.\n",
      "Try using .loc[row_indexer,col_indexer] = value instead\n",
      "\n",
      "See the caveats in the documentation: https://pandas.pydata.org/pandas-docs/stable/user_guide/indexing.html#returning-a-view-versus-a-copy\n",
      "  computer1['time'] = computer1['StartTime'].dt.time\n",
      "<ipython-input-4-3ef6d4516f8a>:14: SettingWithCopyWarning: \n",
      "A value is trying to be set on a copy of a slice from a DataFrame.\n",
      "Try using .loc[row_indexer,col_indexer] = value instead\n",
      "\n",
      "See the caveats in the documentation: https://pandas.pydata.org/pandas-docs/stable/user_guide/indexing.html#returning-a-view-versus-a-copy\n",
      "  computer1['year'] = computer1['StartTime'].dt.year\n",
      "<ipython-input-4-3ef6d4516f8a>:15: SettingWithCopyWarning: \n",
      "A value is trying to be set on a copy of a slice from a DataFrame.\n",
      "Try using .loc[row_indexer,col_indexer] = value instead\n",
      "\n",
      "See the caveats in the documentation: https://pandas.pydata.org/pandas-docs/stable/user_guide/indexing.html#returning-a-view-versus-a-copy\n",
      "  computer1['week_day'] = computer1['StartTime'].dt.day_name()\n",
      "<ipython-input-4-3ef6d4516f8a>:16: SettingWithCopyWarning: \n",
      "A value is trying to be set on a copy of a slice from a DataFrame.\n",
      "Try using .loc[row_indexer,col_indexer] = value instead\n",
      "\n",
      "See the caveats in the documentation: https://pandas.pydata.org/pandas-docs/stable/user_guide/indexing.html#returning-a-view-versus-a-copy\n",
      "  computer1['time'] = computer1['time'].astype(str)\n",
      "<ipython-input-4-3ef6d4516f8a>:17: SettingWithCopyWarning: \n",
      "A value is trying to be set on a copy of a slice from a DataFrame.\n",
      "Try using .loc[row_indexer,col_indexer] = value instead\n",
      "\n",
      "See the caveats in the documentation: https://pandas.pydata.org/pandas-docs/stable/user_guide/indexing.html#returning-a-view-versus-a-copy\n",
      "  computer1['hour'] = computer1['time'].str.split(':').str[0]\n",
      "<ipython-input-4-3ef6d4516f8a>:18: SettingWithCopyWarning: \n",
      "A value is trying to be set on a copy of a slice from a DataFrame.\n",
      "Try using .loc[row_indexer,col_indexer] = value instead\n",
      "\n",
      "See the caveats in the documentation: https://pandas.pydata.org/pandas-docs/stable/user_guide/indexing.html#returning-a-view-versus-a-copy\n",
      "  computer1['hour'] = computer1['hour'].astype(int)\n",
      "<ipython-input-4-3ef6d4516f8a>:19: SettingWithCopyWarning: \n",
      "A value is trying to be set on a copy of a slice from a DataFrame.\n",
      "Try using .loc[row_indexer,col_indexer] = value instead\n",
      "\n",
      "See the caveats in the documentation: https://pandas.pydata.org/pandas-docs/stable/user_guide/indexing.html#returning-a-view-versus-a-copy\n",
      "  computer1['date'] = pd.to_datetime(computer1['Date'])\n"
     ]
    }
   ],
   "source": [
    "import pandas as pd\n",
    "\n",
    "computer = pd.read_csv('data/computer.csv', parse_dates=['StartTime'])\n",
    "circulation = pd.read_csv('data/M.Ahmed Charge Hist log output with IDs.csv', parse_dates=['Trans Hist Date'])\n",
    "\n",
    "# computer data\n",
    "mask = computer['SiteName'].isin(['__Not In Use', '_default', '_IS Testing Lab'])\n",
    "computer = computer[~mask]\n",
    "replace_values = {'Lucile H. Bluford Branch': 'KC-BLUFORD', 'Plaza Branch': 'KC-PLAZA', 'Central Library': 'KC-CENTRAL', 'Waldo Branch': 'KC-WALDO', 'Southeast Branch': 'KC-SE', 'North-East Branch': 'KC-NE', 'Trails West Branch': 'KC-TRAILS', 'Westport Branch': 'KC-WSTPORT', 'Irene H. Ruiz Biblioteca de las Americas': 'KC-RUIZ', 'Sugar Creek Branch': 'KC-SGCREEK'}\n",
    "computer = computer.replace({\"SiteName\": replace_values})\n",
    "computer1 = computer[['StartTime', 'EndTime', 'SessionID', 'SiteName']]\n",
    "computer1['Date'] = computer1['StartTime'].dt.date\n",
    "computer1['time'] = computer1['StartTime'].dt.time\n",
    "computer1['year'] = computer1['StartTime'].dt.year\n",
    "computer1['week_day'] = computer1['StartTime'].dt.day_name()\n",
    "computer1['time'] = computer1['time'].astype(str)\n",
    "computer1['hour'] = computer1['time'].str.split(':').str[0]\n",
    "computer1['hour'] = computer1['hour'].astype(int)\n",
    "computer1['date'] = pd.to_datetime(computer1['Date'])\n",
    "grouped = computer1.groupby(['date','SiteName', 'hour'])['SessionID'].count().reset_index()\n",
    "replace_values = {8: '8 AM', 9: \"9 AM\", 10: \"10 AM\", 11: \"11 AM\", 12: \"12 PM\", 13: \"1 PM\", 14: \"2 PM\", 15: \"3 PM\", 16: \"4 PM\", 17: \"5 PM\", 18: \"6 PM\", 19: \"7 PM\", 20: \"8 PM\", 21: '9'}\n",
    "computer_df = grouped.replace({\"hour\": replace_values})\n",
    "computer_df.rename(columns={'date': 'Trans Hist Date', 'SiteName': 'Station Library Checkout', 'hour': 'hours'}, inplace=True)\n",
    "mask1 = circulation['User Profile'].isin(['MISSING', 'KC-DISPLAY', 'KC-MAINT', 'DISCARD', 'KC-STAFF', 'DAMAGED', 'KC-CATALOG', 'KC-SUSPND',\n",
    " 'LOST', 'KCP-ILL', 'KC-COLDEV', 'KC-TFRBTG', 'KC_CAT1', 'REPLACE'])\n",
    "circulation = circulation[~mask1]\n",
    "circulation['trans_time'] = circulation['Trans Hist Datetime'].str.split(' ').str[1]\n",
    "circulation['hour'] = circulation['trans_time'].str.split(':').str[0]\n",
    "circulation1 = circulation.groupby(['Trans Hist Date', 'Station Library Checkout', 'hour'])['User Id'].unique().reset_index()\n",
    "## circulation1 = pd.DataFrame(circulation1)\n",
    "#circulation1['patron'] = circulation['User Id'].unique()\n",
    "circulation1['patrons'] = circulation1['User Id'].apply(lambda x: len(x))#.reset_index()\n",
    "circulation2 = circulation1[['Trans Hist Date', 'Station Library Checkout', 'hour', 'patrons']]\n",
    "#circulation2['patrons'] = circulation2['patrons'].fillna(0)\n",
    "circulation2['hours'] = circulation2['hour'].astype(int)\n",
    "circulation2['week_day'] = circulation2['Trans Hist Date'].dt.day_name()\n",
    "replace_values = {9: \"9 AM\", 10: \"10 AM\", 11: \"11 AM\", 12: \"12 PM\", 13: \"1 PM\", 14: \"2 PM\", 15: \"3 PM\", 16: \"4 PM\", 17: \"5 PM\", 18: \"6 PM\", 19: \"7 PM\", 20: \"8 PM\"}\n",
    "circulation2 = circulation2.replace({\"hours\": replace_values})\n",
    "mer_df = pd.merge(circulation2, computer_df)\n",
    "mer_df['total'] = mer_df['SessionID'] + mer_df['patrons']"
   ]
  },
  {
   "cell_type": "code",
   "execution_count": 5,
   "metadata": {},
   "outputs": [
    {
     "data": {
      "text/plain": [
       "Timestamp('2022-04-16 00:00:00')"
      ]
     },
     "execution_count": 5,
     "metadata": {},
     "output_type": "execute_result"
    }
   ],
   "source": [
    "mer_df['Trans Hist Date'].max()"
   ]
  }
 ],
 "metadata": {
  "interpreter": {
   "hash": "78b25bcffbc6cad5a13dac6ccd1e05e63163045e84c509d1253671018ed769b5"
  },
  "kernelspec": {
   "display_name": "Python 3.8.12 ('librarydata')",
   "language": "python",
   "name": "python3"
  },
  "language_info": {
   "codemirror_mode": {
    "name": "ipython",
    "version": 3
   },
   "file_extension": ".py",
   "mimetype": "text/x-python",
   "name": "python",
   "nbconvert_exporter": "python",
   "pygments_lexer": "ipython3",
   "version": "3.8.12"
  },
  "orig_nbformat": 4
 },
 "nbformat": 4,
 "nbformat_minor": 2
}
